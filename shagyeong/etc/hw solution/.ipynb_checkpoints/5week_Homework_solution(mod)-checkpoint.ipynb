{
 "cells": [
  {
   "cell_type": "markdown",
   "id": "e3d5349b-e680-4139-a6b0-91e1dc73249b",
   "metadata": {},
   "source": [
    "## 문제1(교재 연습문제 6.11). \n",
    "\n",
    "> In SQL, foreign key constraints can reference only the primary key attributes of the referenced relation or other attributes declared to be a superkey using the unique constraint. As a result, total participation constraints on a many-to-many relationship set (or on the “one” side of a one-to-many relationship set) cannot be enforced on the relations created from the relationship set, using primary key, foreign key, and not null constraints on the relations. <br>\n",
    "> a. Explain why. <br>\n",
    "> b. Explain how to enforce total participation constraints using complex check constraints or assertions (see Section 4.4.8). (Unfortunately, these\n",
    "features are not supported on any widely used database currently.) <br>\n",
    "\n",
    "> ( SQL에서 외래키는 참조된 관계(테이블)의 기본키 속성을 참조한다(또는 유일한  제약 조건을 사용하여 수퍼키로 선언된 다른 속성만을 참조할 수 있다). 결과적으로 ‘다대다 (many-to-many)’ 관계 집합(또는, ‘일대다(one-to-many)‘ 관계 집합에서 ’일(one)’ 에 해당하는 측)에 대한 ‘전체 참여’ 제약 조건을 이러한 ‘다대 다’ (또는 ‘일대다’ 의 ‘일(one)’ 측) 관계 집합으로부터 생성된 관계(테이블)에  기본키, 외래키, 그리고 not null 제약조건을 사용하여, 시행될 수 없다. <br>\n",
    "\n",
    "> a. 왜인지 설명하시오. <br>\n",
    "> b. 복잡한 검사 제약 또는 주장을 사용하여 전체 참여 제약을 시행하는 방법을 설명하시오(교재 Section 4.4.8 참조)  (안타깝게도 현재 널리 사용되는 데이터베이스에서는 이러한 기능이 지원되지 않는다.      )"
   ]
  },
  {
   "cell_type": "markdown",
   "id": "2d792257-31a5-485c-99c7-ef4d790c6326",
   "metadata": {},
   "source": [
    "### 문제1(교재 연습문제 6.11) a. 의 해답.\n",
    "> 중요 사실 ;  “ ‘다대다(many-to-many)’ 엔터티간의 관계(relathionship)를 테이블로 만들 때에는, 양측의 각 엔터티 집합의 기본키들의 조합이 이 관계 테이블의 최소 수퍼키이다. 또한, ‘일대다(one-to-many)’ 엔터티간의 관계(relathionship)를 테이블로 만들 때에는, “Many 측의 엔터티 집합의 기본키가 해당 관계 테이블의 기본키가 된다. ”  (교재 페이지 258 참조).  <br> <br>\n",
    "> ‘다대다’ 관계를 표현하는 테이블에 양 측(A측, B측 이라 하자)의 각 엔터티들이 전체적으로 참여한다는 제약 조건을 ‘어느 한 측(예, A측)의 기본키를 관계 표현 테이블의 기본키로 부가하는 것으로 한다’ 라고 하더라도 다른  측(예, B측)이 ‘many’ 이기 때문에 A측  엔터티 집합의 동일한 키에 대해 B 측 엔터티 집합들의 많은 엔터티들이 연관되므로, B 측 엔터티들이 모두 참여한다는 것을 나타내기 어렵다. 또한, 외래키는 다른 측의 기본키를 참조하는 것이므로 역시 양 측의 엔터티들이 전체적으로 참여한다는 것을 나타내기 어렵다. ‘not null’ 역시 같은 이유이다. <br>\n",
    "> 또한, ‘일대다’ 관계를 나타내는 테이블의 기본키는 ‘다(many)’  측의 기본키를 이용하는 데 이는   ‘일(one)’측의 하나의 엔터티에 대해, ‘many’ 측의 여러개의 엔터티가 대응되기 때문에  ‘일(one)’측의 기본키가 ‘일대다’ 관계 테이블의 기본키가 될 수없기 때문이다.  따라서, ‘일’ 측의 기본키 또는 외래키, ‘not null’ 제약 조건이 전체 참여를 나타내는 제약 조건이 될 수가 없다.  "
   ]
  },
  {
   "cell_type": "markdown",
   "id": "db10130d-1905-45f0-86de-dd8dd5ef24a2",
   "metadata": {},
   "source": [
    "### 문제1(교재 연습문제 6.11) b. 의 해답.\n",
    ">  $R$ 를 엔터티 집합 $A$(기본키 $a$ )에서 엔터티 집합 $B$ (기본키 $b$ ) 로의 ‘many-to-one’ 관계라 하자.   <br>\n",
    "> 이 때, 다음의 ‘check constraints’ 을 관계  $R$  의 ‘일(one) 측 엔터티 집합  $B$: 의 제약조건으로 설정하면, 전체 참여 제약 조건으로 할 수있다. \n",
    "```sql\n",
    "CONSTRAINT total_part CHECK (b IN (SELECT b FROM A));\n",
    "SET CONSTRAINTS total_part DEFERRED;\n",
    "```\n",
    "> 여기서, 제약 조건은 트랜잭션이 끝날 때에 확인되도록 ‘deferred’ (지연)로 설정해야 한다. 그렇지 않으면, $b$ 가 엔터티 집합 $A$ 에 삽입되기 전에 엔터티 집합 $B$ 에 $b$  가  삽입되면 상기 제약조건이 지켜지지   않는 것이 되며, $b$  가 엔터티 집합 $B$ 에 삽입되기 전에 엔터티 집합 $A$ 에  삽입되면, ‘외래키’ 제약 조건이  어겨지게 되기 때문이다.  "
   ]
  },
  {
   "cell_type": "markdown",
   "id": "6c41b9aa-23ce-4337-9529-5028501313c4",
   "metadata": {},
   "source": [
    "## 문제2(교재 연습문제 6.20).\n",
    "> Construct appropriate relation schemas for each of the E-R diagrams in: <br>\n",
    "> a. Exercise 6.1 <br>\n",
    "> b. Exercise 6.2. <br>\n",
    "> c. Exercise 6.3. <br>\n",
    "> d. Exercise 6.15. <br>\n"
   ]
  },
  {
   "cell_type": "markdown",
   "id": "5b8e21bd-729e-431d-9e79-08406d438e31",
   "metadata": {
    "jp-MarkdownHeadingCollapsed": true
   },
   "source": [
    "### 문제2(교재 연습문제 6.20) a. 의 해답. \n",
    "\n",
    "##### 먼저 교재 연습문제(Exercise) 6.1 문제 와 그 해답을 살펴보기로 하자. \n",
    "> (교재 Exercise 6.1 문제 ) Construct an E-R diagram for a car insurance company whose customers own\n",
    "one or more cars each. Each car has associated with it zero to any number of\n",
    "recorded accidents. Each insurance policy covers one or more cars and has one\n",
    "or more premium payments associated with it. Each payment is for a particular\n",
    "period of time, and has an associated due date, and the date when the payment\n",
    "was received. <br>\n",
    "> (해답은 아래 \"Figure_6.102\" 참조) \n",
    "<img src=\"Figure_6.101.png\"/> <br>\n",
    "\n",
    "####  ER-Diagram 로부터  적절한 relation schema 을 구할 때, 관계 집합 처리 원칙. \n",
    "> 1. one-to-one 관계 집합 ; 관계 집합을  나타내는 테이블을 만들지 않고 어느 한 측 엔터티 집합 테이블의 기본키를 다른 측 엔터티 집합 테이블의 외래키로 할당하여 2개 엔터티 집합간의 연관을 표현한다.   <br> \n",
    "> 2. one-to-many 관계 집합 ; 관계 집합을  나타내는 테이블을 만들지 않고 'one' 측 엔터티 집합 테이블의 기본키를 'many' 측 엔터티 집합 테이블의 외래키로 할당하여\n",
    "     2개 엔터티 집합간의 연관을 표현한다.  <br>\n",
    "> 3. many-to-many 관계 집합 ; 각 측의 기본키 조합을 기본키로 하는, 관계 집합을 나타내는 테이블을 만들어  2개 엔터티 집합간의 연관을 표현한다.  <br>\n",
    "     또한, many-to-many 관계 집합 테이블의 기본키 요소들에 대해 각 측의 엔터티 집합 테이블의 기본키를 참조하는 외래키로 추가 설정한다. \n",
    "> 4. 'weak entity' 를 갖는 관계 집합의 경우에는, 'indentifying' 엔터티 집합(테이블)의 기본키를 'weak entity' 엔터티 집합(테이블)의 기본키 요소로 할당한다. <br> \n",
    "\n",
    "#### 상기 Figure 6.101  의 ER-Diagram 에 기반한 Exercise 6.1 에 대한 적절한 relation schema 은 다음과 같은 처리를 통해 아래와 같이 구한다. \n",
    "> 1. customer 와 car 는 one-to-many(1:n) 의 관계이므로 둘 사이의 관계 집합, 'owns'  을 외래키와 기본키를 이용하여 제거할 수있다.  이 때, 'one' 측 엔터티 집합(테이블)인 'customer' 엔터티 집합의 기본키('customer_id')를 'many' 측(Car 엔터티 집합) 테이블의 외래키로 할당한다. <br>\n",
    "> 2. 'participated' 관계 집합은 'car' 엔터티 집합 및 'accident' 엔터티 집합 간의 cardinality 가 'many-to-many' 이므로, 'car' 엔터티 집합(테이블)의 기본키인 'license_id' 와 'accident' 엔터티 집합(테이블)의 기본키인 'report_id' 조합을 기본키로 하는 테이블을 만든다. <br>\n",
    "> 3. 'covers' 관계 집합은 'car' 엔터티 집합 및  'policy' 엔터티 집합 간의 cardinality 가 'many-to-many' 이므로, 'car' 엔터티 집합(테이블)의 기본키인 'license_no' 와 'policy' 엔터티 집합(테이블)의 기본키인 'policy_id' 조합을 기본키로 하는 테이블을 만든다. <br>\n",
    "> 4. 'premium_payment' 가 'weak entity' 이므로, 이를 갖는 관계 집합, 'payment' 는 'indentifying' 엔터티 집합인 'policy'  테이블의 기본키를 'weak entity' 엔터티 집합 'premium_payment' 테이블의 기본키 요소로 할당한다. <br>\n",
    "\n",
    "\n",
    "<i>\n",
    "customer(<u>customer_id</u>, name, address)<br>\n",
    "car(<u>license_no</u>, model, customer_id)<br>\n",
    "accident(<u>report_id</u>, date, place)<br>\n",
    "participated(<u>license_no</u>, <u>report_id</u>)<br>\n",
    "policy(<u>policy_id</u>)<br>\n",
    "covers(<u>license_no</u>, <u>policy_id</u>)<br>\n",
    "premium_payment(<u>policy_id</u>, <u>payment_no</u>, due_date, amount, received_no)<br>\n",
    "</i>\n",
    "\n",
    "<br>"
   ]
  },
  {
   "cell_type": "markdown",
   "id": "ddbfe885-e84e-413e-99a2-add6a49cb48a",
   "metadata": {},
   "source": [
    "### 문제2(교재 연습문제 6.20) b. 의 첫번째 경우(Exercise 6.2 문제 a) 해답. \n",
    "##### 먼저 Exercise 6.2 문제 a. 와 그 해답을 살펴보기로 한다. \n",
    "> Consider a database that includes the entity sets student, course, and section\n",
    "from the university schema and that additionally records the marks that students\n",
    "receive in different exams of different sections. <br>\n",
    "> a. Construct an E-R diagram that models exams as entities and uses a ternary relationship as part of the design. <br>\n",
    "> (해답은 아래 \"Figure_6.102\" 참조) \n",
    "<img src=\"Figure_6.102.png\"/> <br>\n",
    "\n",
    "##### 상기 Figure 6.102 의 ER-Diagram 과  상기의 'ER-Diagram 로부터 적절한 relation schema 을 구할 때, 관계 집합 처리 원칙' 에 기반하여 처리하여 구해진  Exercise 6.2 a. 에 대한 적절한 relation schema 은 다음과 같이 구해진다. \n",
    "<i>\n",
    "student(<u>student_id</u>, name, dept_name, tot_cred) <br>\n",
    "course(<u>course_id</u>, title, depat_name, credits) <br>\n",
    "section(<u>course_id</u>, <u>sec_id</u>, <u>semester</u>, <u>year</u>) <br>\n",
    "exam(<u>exam_id</u>, name, place, time) <br>\n",
    "exam_marks(<u>student_id</u>, <u>course_id</u>, <u>sec_id</u>, <u>semester</u>, <u>year</u>, <u>exam_id</u>, marks) <br>\n",
    "</i>\n",
    ">'exam_marks'는 'student', 'section', 'exam' 3개의 entity 들을 연결하는 ternary relationship 이므로, 3개 엔터티 집합들의 기본키들의 조합으로 기본키를 설정해야 한다. 이다. 여기서 주의할 점은 'section' 이 weak entity 이므로, 이의 기본키는 자체 기본키에 더하여 'identifying entity' 의 기본키가 추가된 이들의 조합이 'section' 테이블의 기본키임을 잊어서는 안된다. \n",
    "<br>"
   ]
  },
  {
   "cell_type": "markdown",
   "id": "6207da2c-ee4c-49f4-8eb8-f677366f6327",
   "metadata": {},
   "source": [
    "### 문제2(교재 연습문제 6.20) b. 의 두번째 경우(Exercise 6.2 문제 b) 해답. \n",
    "##### 먼저 Exercise 6.2 문제 b. 와 그 해답을 살펴보기로 한다. \n",
    "> Consider a database that includes the entity sets student, course, and section\n",
    "from the university schema and that additionally records the marks that students\n",
    "receive in different exams of different sections. <br> \n",
    "> b. Construct an alternative E-R diagram that uses only a binary relationship \n",
    "between student and section. Make sure that only one relationship exists between a particular student and section pair, yet you can represent the\n",
    "marks that a student gets in different exams. <br>\n",
    "> (해답은 아래 \"Figure_6.103\" 참조) \n",
    "<img src=\"Figure_6.103.png\"/>\n",
    "\n",
    "#####  상기 Figure 6.103 의 ER-Diagram 과 상기의 'ER-Diagram 로부터  적절한 relation schema 을 구할 때, 관계 집합 처리 원칙' 에 기반하여 처리하여 구해진  Exercise 6.2 b. 에 대한 적절한 relation schema 는 다음과 같다. \n",
    "\n",
    "<i>\n",
    "student(<u>student_id</u>, name, dept_name, tot_cred) <br>\n",
    "course(<u>course_id</u>, title, depat_name, credits) <br> \n",
    "section(<u>course_id</u>, <u>sec_id</u>, <u>semester</u>, <u>year</u>) <br>\n",
    "exam_marks(<u>student_id</u>, <u>course_id</u>, <u>sec_id</u>, <u>semester</u>, <u>year</u>, exam_id, marks) <br>\n",
    "</i>\n",
    "<br>\n",
    "이제 ternary relationship  'exam_marks' 를 'exam' 엔터티 집합을 삭제하고 대신 'exam_id' 를 속성으로 추가하여, 'student' 와 'section' 의 2개 엔터티 집합간의 이진관계로 변환하였다.  \n",
    "<br> "
   ]
  },
  {
   "cell_type": "markdown",
   "id": "e0daa415-9526-431b-af0a-65fb96e3efe2",
   "metadata": {},
   "source": [
    "### 문제2(교재 연습문제 6.20) c. 의 해답. \n",
    "##### 먼저 교재 Exercise 6.3 문제와 그 해답을 살펴보기로 한다. \n",
    "> Design an E-R diagram for keeping track of the scoring statistics of your favorite sports team. <br>\n",
    "> You should store **the matches played**, **the scores in each match**, **the players in each match**, and  **individual player scoring statistics for each match**. <br>\n",
    "> Summary statistics should be modeled as derived attributes with an explanation as to how they  are computed. <br><br>\n",
    "\n",
    "> (해답은 아래 \"Figure_6.104\" 참조)\n",
    "> The derived attribute _season_score_ is computed by summing the score values associated with the _player_entity set via the _played_ relationship set.\n",
    "\n",
    "<img src=\"Figure_6.104.png\"/>\n",
    "\n",
    "##### 상기 Figure 6.104 의 ER-Diagram 과  상기의 'ER-Diagram 로부터 적절한 relation schema 을 구할 때, 관계 집합 처리 원칙' 에 기반하여 처리하여 구해진  Exercise 6.2 c. 에 대한 적절한 relation schema 은 다음과 같이 구해진다. \n",
    "<i>\n",
    "match(<u>match_id</u>, date, stadium, opponent, own_score, opp_score) <br>\n",
    "player(<u>player_id</u>, name, age)  <br>\n",
    "played(<u>match_id</u>, <u>player_id</u>, score) <br>\n",
    "</i>\n",
    "\n",
    "<br>"
   ]
  },
  {
   "cell_type": "markdown",
   "id": "cd871cf7-2672-44fd-8613-6a923f93c8a5",
   "metadata": {},
   "source": [
    "### 문제2(교재 연습문제 6.20) d. 의 해답. \n",
    "##### 먼저 교재 Exercise 6.15 문제 와 그 해답을 살펴보기로 한다. \n",
    "> Construct an E-R diagram for a hospital with a set of patients and a set of medical\n",
    "> doctors. Associate with each patient a log of the various tests and examinations\n",
    "> conducted. \n",
    "\n",
    "--------------------------------\n",
    "\n",
    "<img src=\"Figure_6.1015.png\"/>\n",
    "\n",
    "`patientTests` is a ternary relationship set. \n",
    "\n",
    "Another method is, to make the `testsAndExaminations` entity a weak entity having identifying\n",
    "entity set `Patient`. And then adding a relationship set between the weak entity `testsAndExaminations`\n",
    "and `MedicalDoctor`, representing which medical doctor performed which test and examination.\n",
    "In fact doing that has the added benefit of constraining each entity in `testsAndExaminations` to a \n",
    "single `Patient`.\n",
    "\n",
    "But using a ternary relationship as depicted in the above diagram, also has its benefits. For example, \n",
    "if a group of patients are tested and examined by the same type of test and have the same result, we\n",
    "might associate each of the patients in the group to the same entity in `testsAndExaminations`.\n",
    "\n",
    "#### 상기 Figure 6.1015 의 ER-Diagram 과 상기의 'ER-Diagram 로부터  적절한 relation schema 을 구할 때, 관계 집합 처리 원칙' 에 기반하여 처리하여 구해진  Exercise 6.15 에 대한 적절한 relation schema 는 다음과 같다.  \n",
    "<i>\n",
    "patient(<u>patient_id</u>,name,phone_number,date_of_birth,...,emergency_contact) <br>\n",
    "medical_doctor(<u>doctor_id</u>,name,phone_number,date_of_birth,address)<br>\n",
    "tests_and_examinations(<u>test_id</u>,test_type,test_result,extra_remarks,timestamp)<br>\n",
    "patient_tests(<u>patient_id</u>, <u>doctor_id</u>,<u>test_id</u>)<br>\n",
    "</i>\n",
    "\n",
    "<br>\n"
   ]
  },
  {
   "cell_type": "markdown",
   "id": "97802e3d-699e-4e42-a5e1-937612213033",
   "metadata": {},
   "source": [
    "## 문제3(교재 연습문제 6.21).\n",
    "> Consider the E-R diagram in Figure 6.30, which models an online bookstore. <br>\n",
    "<img src=\"Figure_6.30.png\"/>\n",
    "\n",
    "> a. Suppose the bookstore adds Blu-ray discs and downloadable video to its \n",
    "> collection. The same item may be present in one or both formats, with\n",
    "> differing prices. Draw the part of the E-R diagram that models this addition, \n",
    "> show just the parts related to video. <br>\n",
    " \n",
    "> b. Now extend the full E-R diagram to model the case where a shopping basket\n",
    "     may contain any combination of books, Blu-ray discs, or downloadable video.\n",
    "\n"
   ]
  },
  {
   "cell_type": "markdown",
   "id": "70ce60a4-ee36-429a-8d29-3e982e24155e",
   "metadata": {},
   "source": [
    "### 문제3(교재 연습문제 6.21) 의 해답.\n",
    "> a. 상기 문제3(교재 연습문제 6.21) a 에 대한 ER-Diagram 은 다음과 같다.  <br>\n",
    "\n",
    "<img src=\"solution_for_6.21_a.png\"/>\n",
    "\n",
    "> Note that `Blu_ray_discs` and `downloadable_videos` are weak entities while  `video_in_bluray` and `video_on_net` are the identifying relationships sets.\n",
    "> `video` is the identifying entity set and owns both of the weak entities. <br>\n",
    "\n",
    "> b. 상기 문제3(교재 연습문제 6.21) b 에 대한 ER-Diagram 은 다음과 같다.  \n",
    "\n",
    "\n",
    "<img src=\"solution_for_6.21_b.png\"/>\n"
   ]
  },
  {
   "cell_type": "markdown",
   "id": "1f5e1d0d-bd98-4ccd-b00f-b200ead42671",
   "metadata": {},
   "source": [
    "## 문제4(교재 연습문제 6.24).\n",
    "> Design a database for an airline. The database must keep track of customers\n",
    "> and their reservations, flights and their status, seat assignments on \n",
    "> individual flights, and the schedule and routing of future flights. <br>\n",
    "\n",
    "> Your design should include an E-R diagram, a set of relational schemas, and \n",
    "> a list of constraints, including primary-key and foreign-key cosntraints.\n",
    ">\n",
    "> "
   ]
  },
  {
   "cell_type": "markdown",
   "id": "8f6bf032-fe55-49c1-a185-d6b211ba0b04",
   "metadata": {},
   "source": [
    "### 문제4(교재 연습문제 6.24) 의 해답.\n",
    "##### 상기 문제4(교재 연습문제 6.24) 에 대한 ER-Diagram 은 다음과 같다. \n",
    "<img src=\"solution_for_6.24.png\"/>\n",
    "\n",
    "##### 또한, 상기 E-R Diagram 에 기반하여 설계된 'Relation schemas' 는 다음과 같다.\n",
    "<i>\n",
    "customer(<u>customer_id</u>, name, phone_number, address) <br>\n",
    "flights(<u>flight_id</u>, src, dest, timestamp_src, timestamp_dest)<br>\n",
    "reservation(<u>customer_id</u>, <u>flight_id</u> , status, seat assignments)<br>\n",
    "</i>\n",
    "\n",
    "#####  a list of constraints, including primary-key and foreign-key cosntraints.\n",
    "> 1. 모든 속성은 'varchar' 타입 <br>\n",
    "> 2. 'customer' 테이블의 기본키는 'customer_id'  <br>\n",
    "> 3. 'flights' 테이블의 기본키는 'flight_id'  <br>\n",
    "> 4. 'reservation' 테이블의 기번키는 'customer_id' 및 'flight_id' 조합  <br>\n",
    "> 5. 'reservation' 테이블의 'customer_id'  는 기본키 요소 이면서, 'customer' 테이블의 기본키인 'customer_id'  를 참조하는 외래키  <br>\n",
    "> 6. 'reservation' 테이블의 'flight_id'  는 기본키 요소 이면서, 'flights' 테이블의 기본키인 'flight_id'  를 참조하는 외래키 <br>  \n"
   ]
  },
  {
   "cell_type": "markdown",
   "id": "e67c021d-c979-4d85-94cd-608f04b24fdf",
   "metadata": {},
   "source": [
    "### 문제5. 문제4 Realtional Schema 에 대한 sql file"
   ]
  },
  {
   "cell_type": "markdown",
   "id": "24bdee54-1930-48da-8e0b-8d8483f48283",
   "metadata": {},
   "source": [
    "### 문제5 의 해답 \n",
    "##### 문제 4의 Relational Schema 에 대한 sql file, \"airline.sql\" 과  해당 schema diagram file  \"airline.mwb\" 는 현 폴더에 있다. "
   ]
  },
  {
   "cell_type": "code",
   "execution_count": null,
   "id": "a80d9910-6dd6-4ef7-9223-a3a6f2e7ed49",
   "metadata": {},
   "outputs": [],
   "source": []
  }
 ],
 "metadata": {
  "kernelspec": {
   "display_name": "Python 3 (ipykernel)",
   "language": "python",
   "name": "python3"
  },
  "language_info": {
   "codemirror_mode": {
    "name": "ipython",
    "version": 3
   },
   "file_extension": ".py",
   "mimetype": "text/x-python",
   "name": "python",
   "nbconvert_exporter": "python",
   "pygments_lexer": "ipython3",
   "version": "3.11.9"
  }
 },
 "nbformat": 4,
 "nbformat_minor": 5
}
